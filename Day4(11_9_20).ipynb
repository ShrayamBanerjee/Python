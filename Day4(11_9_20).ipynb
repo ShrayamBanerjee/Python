{
  "nbformat": 4,
  "nbformat_minor": 0,
  "metadata": {
    "colab": {
      "name": "Day4(11.9.20).ipynb",
      "provenance": [],
      "include_colab_link": true
    },
    "kernelspec": {
      "name": "python3",
      "display_name": "Python 3"
    }
  },
  "cells": [
    {
      "cell_type": "markdown",
      "metadata": {
        "id": "view-in-github",
        "colab_type": "text"
      },
      "source": [
        "<a href=\"https://colab.research.google.com/github/ShrayamBanerjee/Python/blob/master/Day4(11_9_20).ipynb\" target=\"_parent\"><img src=\"https://colab.research.google.com/assets/colab-badge.svg\" alt=\"Open In Colab\"/></a>"
      ]
    },
    {
      "cell_type": "code",
      "metadata": {
        "id": "_d41rRpj0FhF",
        "colab_type": "code",
        "colab": {
          "base_uri": "https://localhost:8080/",
          "height": 34
        },
        "outputId": "96d9f2c8-0f53-47c6-8cdb-51a7048b5686"
      },
      "source": [
        "#MORE CONTROL FLOW TOOLS\n",
        "\n",
        "#if Statements\n",
        "x = int(input(\"Please enter an integer: \"))\n"
      ],
      "execution_count": null,
      "outputs": [
        {
          "output_type": "stream",
          "text": [
            "Please enter an integer: 40\n"
          ],
          "name": "stdout"
        }
      ]
    },
    {
      "cell_type": "code",
      "metadata": {
        "id": "hcMtwm9-0tFj",
        "colab_type": "code",
        "colab": {
          "base_uri": "https://localhost:8080/",
          "height": 34
        },
        "outputId": "9a97aa65-1c28-4847-b388-44370f95faed"
      },
      "source": [
        "if x < 0:\n",
        "    x = 0\n",
        "    print('Negative changed to zero')\n",
        "elif x == 0:\n",
        "    print('Zero')\n",
        "elif x == 1:\n",
        "    print('Single')\n",
        "else:\n",
        "    print('More')"
      ],
      "execution_count": null,
      "outputs": [
        {
          "output_type": "stream",
          "text": [
            "More\n"
          ],
          "name": "stdout"
        }
      ]
    },
    {
      "cell_type": "code",
      "metadata": {
        "id": "_60dyOuB31T0",
        "colab_type": "code",
        "colab": {}
      },
      "source": [
        "words = ['cat', 'window', 'defenestrate']\n"
      ],
      "execution_count": null,
      "outputs": []
    },
    {
      "cell_type": "code",
      "metadata": {
        "id": "_LkdZtiE1JA4",
        "colab_type": "code",
        "colab": {
          "base_uri": "https://localhost:8080/",
          "height": 67
        },
        "outputId": "965fba64-74a8-4c0d-dbf6-299b774d230f"
      },
      "source": [
        "for w in words:\n",
        "    print(w) #, len(w)) # it calculate length of the string"
      ],
      "execution_count": null,
      "outputs": [
        {
          "output_type": "stream",
          "text": [
            "cat\n",
            "window\n",
            "defenestrate\n"
          ],
          "name": "stdout"
        }
      ]
    },
    {
      "cell_type": "code",
      "metadata": {
        "id": "YuPogrsz5WAo",
        "colab_type": "code",
        "colab": {}
      },
      "source": [
        "words = ['cat', 'window', 'defenestrate']\n",
        "for w in words[:]: # Loop over a slice copy of the entire list.\n",
        "    if len(w) >= 6:\n",
        "      words.insert(1, 'wabc')"
      ],
      "execution_count": null,
      "outputs": []
    },
    {
      "cell_type": "code",
      "metadata": {
        "id": "-0NcJfC76QrZ",
        "colab_type": "code",
        "colab": {
          "base_uri": "https://localhost:8080/",
          "height": 34
        },
        "outputId": "fdbc3ee8-2e72-49d8-9c67-1a9494b10e1c"
      },
      "source": [
        "words"
      ],
      "execution_count": null,
      "outputs": [
        {
          "output_type": "execute_result",
          "data": {
            "text/plain": [
              "['cat', 'wabc', 'wabc', 'window', 'defenestrate']"
            ]
          },
          "metadata": {
            "tags": []
          },
          "execution_count": 27
        }
      ]
    },
    {
      "cell_type": "code",
      "metadata": {
        "id": "kUtpobAb9gYA",
        "colab_type": "code",
        "colab": {}
      },
      "source": [
        ""
      ],
      "execution_count": null,
      "outputs": []
    },
    {
      "cell_type": "code",
      "metadata": {
        "id": "jW0mMn_n7C0p",
        "colab_type": "code",
        "colab": {
          "base_uri": "https://localhost:8080/",
          "height": 218
        },
        "outputId": "b51a5acf-d2b3-4e48-deee-501e7a44e51e"
      },
      "source": [
        "#The range() Function\n",
        "for i in range(-50,100,13):\n",
        "    print(i)"
      ],
      "execution_count": null,
      "outputs": [
        {
          "output_type": "stream",
          "text": [
            "-50\n",
            "-37\n",
            "-24\n",
            "-11\n",
            "2\n",
            "15\n",
            "28\n",
            "41\n",
            "54\n",
            "67\n",
            "80\n",
            "93\n"
          ],
          "name": "stdout"
        }
      ]
    },
    {
      "cell_type": "code",
      "metadata": {
        "id": "NKJPpZ1A7ba7",
        "colab_type": "code",
        "colab": {
          "base_uri": "https://localhost:8080/",
          "height": 34
        },
        "outputId": "8e271450-d524-477e-9619-339de2c032b7"
      },
      "source": [
        "range(5, 10)\n",
        "#5, 6, 7, 8, 9"
      ],
      "execution_count": null,
      "outputs": [
        {
          "output_type": "execute_result",
          "data": {
            "text/plain": [
              "range(5, 10)"
            ]
          },
          "metadata": {
            "tags": []
          },
          "execution_count": 24
        }
      ]
    },
    {
      "cell_type": "code",
      "metadata": {
        "id": "1qcE0wTT7pas",
        "colab_type": "code",
        "colab": {
          "base_uri": "https://localhost:8080/",
          "height": 34
        },
        "outputId": "16ef17e0-884b-4204-9490-e5fad022dcf0"
      },
      "source": [
        "range(0, 10, 3)\n",
        "#0, 3, 6, 9"
      ],
      "execution_count": null,
      "outputs": [
        {
          "output_type": "execute_result",
          "data": {
            "text/plain": [
              "range(0, 10, 3)"
            ]
          },
          "metadata": {
            "tags": []
          },
          "execution_count": 25
        }
      ]
    },
    {
      "cell_type": "code",
      "metadata": {
        "id": "YEN8gpN79iFK",
        "colab_type": "code",
        "colab": {}
      },
      "source": [
        "range(-10, -100, -30)\n",
        "#-10, -40, -70"
      ],
      "execution_count": null,
      "outputs": []
    },
    {
      "cell_type": "code",
      "metadata": {
        "id": "7jHVAVpN9xkj",
        "colab_type": "code",
        "colab": {}
      },
      "source": [
        "a = ['Mary', 'had', 'a', 'little', 'lamb']"
      ],
      "execution_count": null,
      "outputs": []
    },
    {
      "cell_type": "code",
      "metadata": {
        "id": "ZfBjRdNz93b9",
        "colab_type": "code",
        "colab": {
          "base_uri": "https://localhost:8080/",
          "height": 101
        },
        "outputId": "b4d2c48a-824b-40e3-926e-4c1a74bde800"
      },
      "source": [
        "for i in range(5):#len(a)):\n",
        "    print(i, a[i])"
      ],
      "execution_count": null,
      "outputs": [
        {
          "output_type": "stream",
          "text": [
            "0 Mary\n",
            "1 had\n",
            "2 a\n",
            "3 little\n",
            "4 lamb\n"
          ],
          "name": "stdout"
        }
      ]
    },
    {
      "cell_type": "code",
      "metadata": {
        "id": "WWzXVdoi_F28",
        "colab_type": "code",
        "colab": {
          "base_uri": "https://localhost:8080/",
          "height": 34
        },
        "outputId": "99dc38e6-8c07-404a-8be7-df30d883c077"
      },
      "source": [
        "print(range(10))"
      ],
      "execution_count": null,
      "outputs": [
        {
          "output_type": "stream",
          "text": [
            "range(0, 10)\n"
          ],
          "name": "stdout"
        }
      ]
    },
    {
      "cell_type": "code",
      "metadata": {
        "id": "gIi6hSuG_N3D",
        "colab_type": "code",
        "colab": {}
      },
      "source": [
        "A=list(range(500))"
      ],
      "execution_count": null,
      "outputs": []
    },
    {
      "cell_type": "code",
      "metadata": {
        "id": "pl_xXh5J_XF7",
        "colab_type": "code",
        "colab": {
          "base_uri": "https://localhost:8080/",
          "height": 487
        },
        "outputId": "7ec843d3-d7a6-4bb5-9a22-a3e8c0590fa7"
      },
      "source": [
        "#break and continue Statements, and else Clauses on Loops\n",
        "for n in range(2, 10):\n",
        "    for x in range(2, n):\n",
        "      print(x)\n",
        "      if n % x == 0:\n",
        "          print(n, 'equals', x, '*', n//x)\n",
        "          break\n",
        "      else:\n",
        "      # loop fell through without finding a factor\n",
        "          print(n, 'is a prime number')"
      ],
      "execution_count": null,
      "outputs": [
        {
          "output_type": "stream",
          "text": [
            "2\n",
            "3 is a prime number\n",
            "2\n",
            "4 equals 2 * 2\n",
            "2\n",
            "5 is a prime number\n",
            "3\n",
            "5 is a prime number\n",
            "4\n",
            "5 is a prime number\n",
            "2\n",
            "6 equals 2 * 3\n",
            "2\n",
            "7 is a prime number\n",
            "3\n",
            "7 is a prime number\n",
            "4\n",
            "7 is a prime number\n",
            "5\n",
            "7 is a prime number\n",
            "6\n",
            "7 is a prime number\n",
            "2\n",
            "8 equals 2 * 4\n",
            "2\n",
            "9 is a prime number\n",
            "3\n",
            "9 equals 3 * 3\n"
          ],
          "name": "stdout"
        }
      ]
    },
    {
      "cell_type": "code",
      "metadata": {
        "id": "xMWbIjgNCU-4",
        "colab_type": "code",
        "colab": {
          "base_uri": "https://localhost:8080/",
          "height": 151
        },
        "outputId": "c6d04cb6-10ae-454e-b994-1f60b068a8a5"
      },
      "source": [
        "for num in range(2, 10):\n",
        "    if num % 2 == 0:\n",
        "      print(\"Found an even number\", num)\n",
        "      continue\n",
        "      #break\n",
        "    print(\"Found a number\", num)"
      ],
      "execution_count": null,
      "outputs": [
        {
          "output_type": "stream",
          "text": [
            "Found an even number 2\n",
            "Found a number 3\n",
            "Found an even number 4\n",
            "Found a number 5\n",
            "Found an even number 6\n",
            "Found a number 7\n",
            "Found an even number 8\n",
            "Found a number 9\n"
          ],
          "name": "stdout"
        }
      ]
    },
    {
      "cell_type": "code",
      "metadata": {
        "id": "MHfJ7oF1GBGc",
        "colab_type": "code",
        "colab": {}
      },
      "source": [
        ""
      ],
      "execution_count": null,
      "outputs": []
    },
    {
      "cell_type": "code",
      "metadata": {
        "id": "zK8D42SRD0hq",
        "colab_type": "code",
        "colab": {}
      },
      "source": [
        "#Defining Functions\n",
        "def fib(n): # write Fibonacci series up to n\n",
        "     #\"\"\"Print a Fibonacci series up to n.\"\"\"\n",
        "    a, b = 0, 1\n",
        "    while a < n:\n",
        "        print(a, end=' ')\n",
        "        a, b = b, a+b\n",
        "    print()"
      ],
      "execution_count": null,
      "outputs": []
    },
    {
      "cell_type": "code",
      "metadata": {
        "id": "TlcF26X1FJy5",
        "colab_type": "code",
        "colab": {}
      },
      "source": [
        ""
      ],
      "execution_count": null,
      "outputs": []
    },
    {
      "cell_type": "code",
      "metadata": {
        "id": "hwF0Z4OqEre6",
        "colab_type": "code",
        "colab": {
          "base_uri": "https://localhost:8080/",
          "height": 34
        },
        "outputId": "fc4f8523-e2e7-4d40-c9b9-a388e223e675"
      },
      "source": [
        "fib(100)"
      ],
      "execution_count": null,
      "outputs": [
        {
          "output_type": "stream",
          "text": [
            "0 1 1 2 3 5 8 13 21 34 55 89 \n"
          ],
          "name": "stdout"
        }
      ]
    },
    {
      "cell_type": "code",
      "metadata": {
        "id": "MyivMOQkFKwc",
        "colab_type": "code",
        "colab": {}
      },
      "source": [
        "def mUX(a,b):\n",
        "    c=a*b\n",
        "    print(c)"
      ],
      "execution_count": null,
      "outputs": []
    },
    {
      "cell_type": "code",
      "metadata": {
        "id": "19EqTG9ZFb2A",
        "colab_type": "code",
        "colab": {
          "base_uri": "https://localhost:8080/",
          "height": 34
        },
        "outputId": "fb4555a3-e96f-4625-a0b4-6f152430e5c9"
      },
      "source": [
        "mUX(4,8)"
      ],
      "execution_count": null,
      "outputs": [
        {
          "output_type": "stream",
          "text": [
            "32\n"
          ],
          "name": "stdout"
        }
      ]
    },
    {
      "cell_type": "code",
      "metadata": {
        "id": "TKZqs2H7GCNb",
        "colab_type": "code",
        "colab": {}
      },
      "source": [
        "def myeven(o,p):\n",
        "  for num in range(o,p):\n",
        "      if num % 2 == 0:\n",
        "        print(\"Found an even number\", num)\n",
        "        continue\n",
        "      #break\n",
        "      print(\"Found a number\", num)"
      ],
      "execution_count": null,
      "outputs": []
    },
    {
      "cell_type": "code",
      "metadata": {
        "id": "n1Ef01FdGjIh",
        "colab_type": "code",
        "colab": {
          "base_uri": "https://localhost:8080/",
          "height": 151
        },
        "outputId": "8d5e8855-0fe5-4589-87bd-d1930428b7b2"
      },
      "source": [
        "myeven(2,10)"
      ],
      "execution_count": null,
      "outputs": [
        {
          "output_type": "stream",
          "text": [
            "Found an even number 2\n",
            "Found a number 3\n",
            "Found an even number 4\n",
            "Found a number 5\n",
            "Found an even number 6\n",
            "Found a number 7\n",
            "Found an even number 8\n",
            "Found a number 9\n"
          ],
          "name": "stdout"
        }
      ]
    }
  ]
}